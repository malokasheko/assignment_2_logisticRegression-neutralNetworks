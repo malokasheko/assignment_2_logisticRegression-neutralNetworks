{
  "nbformat": 4,
  "nbformat_minor": 0,
  "metadata": {
    "colab": {
      "provenance": []
    },
    "kernelspec": {
      "name": "python3",
      "display_name": "Python 3"
    },
    "language_info": {
      "name": "python"
    }
  },
  "cells": [
    {
      "cell_type": "code",
      "source": [
        "from google.colab import drive\n",
        "drive.mount('/content/drive')\n"
      ],
      "metadata": {
        "colab": {
          "base_uri": "https://localhost:8080/"
        },
        "id": "CR5qLZM6SWF0",
        "outputId": "658caee5-f06f-4dc8-8363-f7dd601a34ea"
      },
      "execution_count": null,
      "outputs": [
        {
          "output_type": "stream",
          "name": "stdout",
          "text": [
            "Mounted at /content/drive\n"
          ]
        }
      ]
    },
    {
      "cell_type": "markdown",
      "source": [
        "## imports"
      ],
      "metadata": {
        "id": "7UALxcAbOnNX"
      }
    },
    {
      "cell_type": "code",
      "execution_count": null,
      "metadata": {
        "id": "l2GRQ-L_OTk-"
      },
      "outputs": [],
      "source": [
        "import torch\n",
        "import torch.nn as nn\n",
        "import torch.nn.functional as F\n",
        "from torch.utils.data import DataLoader\n",
        "from torchvision import datasets, transforms\n"
      ]
    },
    {
      "cell_type": "markdown",
      "source": [
        "# 1) MNIST Dataset & Dataloaders\n"
      ],
      "metadata": {
        "id": "SYDT1MmUOx-Q"
      }
    },
    {
      "cell_type": "code",
      "source": [
        "transform = transforms.ToTensor()\n",
        "train_data = datasets.MNIST(root=\"./data\", train=True, download=True, transform=transform)\n",
        "test_data  = datasets.MNIST(root=\"./data\", train=False, download=True, transform=transform)\n",
        "\n",
        "train_loader = DataLoader(train_data, batch_size=64, shuffle=True)\n",
        "test_loader  = DataLoader(test_data, batch_size=64, shuffle=False)"
      ],
      "metadata": {
        "id": "OSWdgi39O4jv",
        "colab": {
          "base_uri": "https://localhost:8080/"
        },
        "outputId": "e9bf49c4-8bc8-4954-dded-03847a2010d5"
      },
      "execution_count": null,
      "outputs": [
        {
          "output_type": "stream",
          "name": "stderr",
          "text": [
            "100%|██████████| 9.91M/9.91M [00:00<00:00, 137MB/s]\n",
            "100%|██████████| 28.9k/28.9k [00:00<00:00, 49.5MB/s]\n",
            "100%|██████████| 1.65M/1.65M [00:00<00:00, 70.5MB/s]\n",
            "100%|██████████| 4.54k/4.54k [00:00<00:00, 10.4MB/s]\n"
          ]
        }
      ]
    },
    {
      "cell_type": "markdown",
      "source": [
        "# 2) Simple Fully Connected Network\n"
      ],
      "metadata": {
        "id": "MEqNqVRePBy2"
      }
    },
    {
      "cell_type": "code",
      "source": [
        "\n",
        "class SimpleFC(nn.Module):\n",
        "    def __init__(self):\n",
        "        super().__init__()\n",
        "        self.fc1 = nn.Linear(28*28, 128)\n",
        "        self.fc2 = nn.Linear(128, 10)\n",
        "\n",
        "    def forward(self, x):\n",
        "        x = x.view(x.size(0), -1)   # flatten\n",
        "        x = F.relu(self.fc1(x))\n",
        "        return self.fc2(x)\n"
      ],
      "metadata": {
        "id": "egudDN6QPGJ1"
      },
      "execution_count": null,
      "outputs": []
    },
    {
      "cell_type": "markdown",
      "source": [
        "# 3) Simple CNN\n"
      ],
      "metadata": {
        "id": "FhnGnUabPKwV"
      }
    },
    {
      "cell_type": "code",
      "source": [
        "\n",
        "\n",
        "class SimpleCNN(nn.Module):\n",
        "    def __init__(self):\n",
        "        super().__init__()\n",
        "        self.conv1 = nn.Conv2d(1, 16, 3)   # 1→16 filters, 3x3\n",
        "        self.pool  = nn.MaxPool2d(2, 2)\n",
        "        self.fc    = nn.Linear(16 * 13 * 13, 10)\n",
        "\n",
        "    def forward(self, x):\n",
        "        x = self.pool(F.relu(self.conv1(x)))   # conv → relu → pool\n",
        "        x = x.view(x.size(0), -1)              # flatten\n",
        "        return self.fc(x)"
      ],
      "metadata": {
        "id": "Xl65-ZIZPKM9"
      },
      "execution_count": null,
      "outputs": []
    },
    {
      "cell_type": "markdown",
      "source": [
        "# 4) Training Function"
      ],
      "metadata": {
        "id": "2lQ0Un8-PSxH"
      }
    },
    {
      "cell_type": "code",
      "source": [
        "def train_model(model, loader, epochs=1):\n",
        "    optimizer = torch.optim.SGD(model.parameters(), lr=0.01)\n",
        "    loss_fn = nn.CrossEntropyLoss()\n",
        "    for _ in range(epochs):\n",
        "        for imgs, labels in loader:\n",
        "            preds = model(imgs)\n",
        "            loss = loss_fn(preds, labels)\n",
        "            optimizer.zero_grad()\n",
        "            loss.backward()\n",
        "            optimizer.step()"
      ],
      "metadata": {
        "id": "IxH25yV-Pa5J"
      },
      "execution_count": null,
      "outputs": []
    },
    {
      "cell_type": "markdown",
      "source": [
        "\n",
        "# 5) Test Accuracy"
      ],
      "metadata": {
        "id": "IrezlAOBPcP1"
      }
    },
    {
      "cell_type": "code",
      "source": [
        "def test_accuracy(model):\n",
        "    correct = 0\n",
        "    total = 0\n",
        "    with torch.no_grad():\n",
        "        for imgs, labels in test_loader:\n",
        "            preds = model(imgs)\n",
        "            correct += (preds.argmax(1) == labels).sum().item()\n",
        "            total += labels.size(0)\n",
        "    return correct / total"
      ],
      "metadata": {
        "id": "N8WWxLqkPjzY"
      },
      "execution_count": null,
      "outputs": []
    },
    {
      "cell_type": "markdown",
      "source": [
        "# ---- RUN EXPERIMENT ---- #"
      ],
      "metadata": {
        "id": "na-ssE6oPlmd"
      }
    },
    {
      "cell_type": "code",
      "source": [
        "\n",
        "\n",
        "fc = SimpleFC()\n",
        "cnn = SimpleCNN()\n",
        "\n",
        "print(\"Training FC Model...\")\n",
        "train_model(fc, train_loader, epochs=1)  # 1 epoch for fast demo\n",
        "print(\"Training CNN Model...\")\n",
        "train_model(cnn, train_loader, epochs=1)\n",
        "\n",
        "fc_acc = test_accuracy(fc)\n",
        "cnn_acc = test_accuracy(cnn)\n",
        "\n",
        "print(\"\\n=== RESULTS ===\")\n",
        "print(f\"Fully Connected Accuracy: {fc_acc*100:.2f}%\")\n",
        "print(f\"CNN Accuracy:            {cnn_acc*100:.2f}%\")\n",
        "print(\"\\nCNN performs better because it learns SPATIAL features (edges, shapes) from the image instead of treating it as flat pixels.\")\n"
      ],
      "metadata": {
        "id": "RYRE15vePqq3",
        "colab": {
          "base_uri": "https://localhost:8080/"
        },
        "outputId": "832d2f9c-7ddb-4a8d-cb27-cde88e196375"
      },
      "execution_count": null,
      "outputs": [
        {
          "output_type": "stream",
          "name": "stdout",
          "text": [
            "Training FC Model...\n",
            "Training CNN Model...\n",
            "\n",
            "=== RESULTS ===\n",
            "Fully Connected Accuracy: 86.38%\n",
            "CNN Accuracy:            90.41%\n",
            "\n",
            "CNN performs better because it learns SPATIAL features (edges, shapes) from the image instead of treating it as flat pixels.\n"
          ]
        }
      ]
    }
  ]
}